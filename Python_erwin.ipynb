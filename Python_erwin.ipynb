{
 "cells": [
  {
   "cell_type": "code",
   "execution_count": 1,
   "id": "3bd63b49",
   "metadata": {},
   "outputs": [],
   "source": [
    "# Importing pandas, numpy, matplotlib.pyplot and datetime\n",
    "import pandas as pd\n",
    "import numpy as np\n",
    "import matplotlib.pyplot as plt\n",
    "import datetime as dt"
   ]
  },
  {
   "cell_type": "code",
   "execution_count": 2,
   "id": "1130a78b",
   "metadata": {},
   "outputs": [],
   "source": [
    "tfl = pd.read_csv('tfl-daily-cycle-hires.csv')"
   ]
  },
  {
   "cell_type": "code",
   "execution_count": 3,
   "id": "7f9eb8ce",
   "metadata": {},
   "outputs": [
    {
     "data": {
      "text/html": [
       "<div>\n",
       "<style scoped>\n",
       "    .dataframe tbody tr th:only-of-type {\n",
       "        vertical-align: middle;\n",
       "    }\n",
       "\n",
       "    .dataframe tbody tr th {\n",
       "        vertical-align: top;\n",
       "    }\n",
       "\n",
       "    .dataframe thead th {\n",
       "        text-align: right;\n",
       "    }\n",
       "</style>\n",
       "<table border=\"1\" class=\"dataframe\">\n",
       "  <thead>\n",
       "    <tr style=\"text-align: right;\">\n",
       "      <th></th>\n",
       "      <th>Day</th>\n",
       "      <th>Number of Bicycle Hires</th>\n",
       "      <th>Unnamed: 2</th>\n",
       "    </tr>\n",
       "  </thead>\n",
       "  <tbody>\n",
       "    <tr>\n",
       "      <th>0</th>\n",
       "      <td>30/07/2010</td>\n",
       "      <td>6897.0</td>\n",
       "      <td>NaN</td>\n",
       "    </tr>\n",
       "    <tr>\n",
       "      <th>1</th>\n",
       "      <td>31/07/2010</td>\n",
       "      <td>5564.0</td>\n",
       "      <td>NaN</td>\n",
       "    </tr>\n",
       "    <tr>\n",
       "      <th>2</th>\n",
       "      <td>01/08/2010</td>\n",
       "      <td>4303.0</td>\n",
       "      <td>NaN</td>\n",
       "    </tr>\n",
       "    <tr>\n",
       "      <th>3</th>\n",
       "      <td>02/08/2010</td>\n",
       "      <td>6642.0</td>\n",
       "      <td>NaN</td>\n",
       "    </tr>\n",
       "    <tr>\n",
       "      <th>4</th>\n",
       "      <td>03/08/2010</td>\n",
       "      <td>7966.0</td>\n",
       "      <td>NaN</td>\n",
       "    </tr>\n",
       "    <tr>\n",
       "      <th>...</th>\n",
       "      <td>...</td>\n",
       "      <td>...</td>\n",
       "      <td>...</td>\n",
       "    </tr>\n",
       "    <tr>\n",
       "      <th>4076</th>\n",
       "      <td>26/09/2021</td>\n",
       "      <td>45120.0</td>\n",
       "      <td>NaN</td>\n",
       "    </tr>\n",
       "    <tr>\n",
       "      <th>4077</th>\n",
       "      <td>27/09/2021</td>\n",
       "      <td>32167.0</td>\n",
       "      <td>NaN</td>\n",
       "    </tr>\n",
       "    <tr>\n",
       "      <th>4078</th>\n",
       "      <td>28/09/2021</td>\n",
       "      <td>32539.0</td>\n",
       "      <td>NaN</td>\n",
       "    </tr>\n",
       "    <tr>\n",
       "      <th>4079</th>\n",
       "      <td>29/09/2021</td>\n",
       "      <td>39889.0</td>\n",
       "      <td>NaN</td>\n",
       "    </tr>\n",
       "    <tr>\n",
       "      <th>4080</th>\n",
       "      <td>30/09/2021</td>\n",
       "      <td>34070.0</td>\n",
       "      <td>NaN</td>\n",
       "    </tr>\n",
       "  </tbody>\n",
       "</table>\n",
       "<p>4081 rows × 3 columns</p>\n",
       "</div>"
      ],
      "text/plain": [
       "             Day  Number of Bicycle Hires  Unnamed: 2\n",
       "0     30/07/2010                   6897.0         NaN\n",
       "1     31/07/2010                   5564.0         NaN\n",
       "2     01/08/2010                   4303.0         NaN\n",
       "3     02/08/2010                   6642.0         NaN\n",
       "4     03/08/2010                   7966.0         NaN\n",
       "...          ...                      ...         ...\n",
       "4076  26/09/2021                  45120.0         NaN\n",
       "4077  27/09/2021                  32167.0         NaN\n",
       "4078  28/09/2021                  32539.0         NaN\n",
       "4079  29/09/2021                  39889.0         NaN\n",
       "4080  30/09/2021                  34070.0         NaN\n",
       "\n",
       "[4081 rows x 3 columns]"
      ]
     },
     "execution_count": 3,
     "metadata": {},
     "output_type": "execute_result"
    }
   ],
   "source": [
    "tfl"
   ]
  },
  {
   "cell_type": "code",
   "execution_count": 4,
   "id": "f5ad21cb",
   "metadata": {},
   "outputs": [
    {
     "data": {
      "text/plain": [
       "Day                         object\n",
       "Number of Bicycle Hires    float64\n",
       "Unnamed: 2                 float64\n",
       "dtype: object"
      ]
     },
     "execution_count": 4,
     "metadata": {},
     "output_type": "execute_result"
    }
   ],
   "source": [
    "tfl.dtypes"
   ]
  },
  {
   "cell_type": "code",
   "execution_count": 5,
   "id": "22392cae",
   "metadata": {},
   "outputs": [],
   "source": [
    "# Changing 'Day' to be datetime dtype, 'Number of Bicycle Hires' as string\n",
    "# Dropping columns 'Unnamed: 2'\n",
    "tfl['Day'] = pd.to_datetime(tfl['Day'], format='%d/%m/%Y')\n",
    "tfl['Number of Bicycle Hires'] = tfl['Number of Bicycle Hires'].astype('float')\n",
    "tfl.drop(columns='Unnamed: 2', inplace=True)"
   ]
  },
  {
   "cell_type": "code",
   "execution_count": 6,
   "id": "78e994af",
   "metadata": {},
   "outputs": [
    {
     "data": {
      "text/plain": [
       "Day                        datetime64[ns]\n",
       "Number of Bicycle Hires           float64\n",
       "dtype: object"
      ]
     },
     "execution_count": 6,
     "metadata": {},
     "output_type": "execute_result"
    }
   ],
   "source": [
    "tfl.dtypes"
   ]
  },
  {
   "cell_type": "code",
   "execution_count": 7,
   "id": "741875f1",
   "metadata": {},
   "outputs": [
    {
     "data": {
      "text/html": [
       "<div>\n",
       "<style scoped>\n",
       "    .dataframe tbody tr th:only-of-type {\n",
       "        vertical-align: middle;\n",
       "    }\n",
       "\n",
       "    .dataframe tbody tr th {\n",
       "        vertical-align: top;\n",
       "    }\n",
       "\n",
       "    .dataframe thead th {\n",
       "        text-align: right;\n",
       "    }\n",
       "</style>\n",
       "<table border=\"1\" class=\"dataframe\">\n",
       "  <thead>\n",
       "    <tr style=\"text-align: right;\">\n",
       "      <th></th>\n",
       "      <th>Day</th>\n",
       "      <th>Number of Bicycle Hires</th>\n",
       "    </tr>\n",
       "  </thead>\n",
       "  <tbody>\n",
       "    <tr>\n",
       "      <th>0</th>\n",
       "      <td>2010-07-30</td>\n",
       "      <td>6897.0</td>\n",
       "    </tr>\n",
       "    <tr>\n",
       "      <th>1</th>\n",
       "      <td>2010-07-31</td>\n",
       "      <td>5564.0</td>\n",
       "    </tr>\n",
       "    <tr>\n",
       "      <th>2</th>\n",
       "      <td>2010-08-01</td>\n",
       "      <td>4303.0</td>\n",
       "    </tr>\n",
       "    <tr>\n",
       "      <th>3</th>\n",
       "      <td>2010-08-02</td>\n",
       "      <td>6642.0</td>\n",
       "    </tr>\n",
       "    <tr>\n",
       "      <th>4</th>\n",
       "      <td>2010-08-03</td>\n",
       "      <td>7966.0</td>\n",
       "    </tr>\n",
       "    <tr>\n",
       "      <th>...</th>\n",
       "      <td>...</td>\n",
       "      <td>...</td>\n",
       "    </tr>\n",
       "    <tr>\n",
       "      <th>4076</th>\n",
       "      <td>2021-09-26</td>\n",
       "      <td>45120.0</td>\n",
       "    </tr>\n",
       "    <tr>\n",
       "      <th>4077</th>\n",
       "      <td>2021-09-27</td>\n",
       "      <td>32167.0</td>\n",
       "    </tr>\n",
       "    <tr>\n",
       "      <th>4078</th>\n",
       "      <td>2021-09-28</td>\n",
       "      <td>32539.0</td>\n",
       "    </tr>\n",
       "    <tr>\n",
       "      <th>4079</th>\n",
       "      <td>2021-09-29</td>\n",
       "      <td>39889.0</td>\n",
       "    </tr>\n",
       "    <tr>\n",
       "      <th>4080</th>\n",
       "      <td>2021-09-30</td>\n",
       "      <td>34070.0</td>\n",
       "    </tr>\n",
       "  </tbody>\n",
       "</table>\n",
       "<p>4081 rows × 2 columns</p>\n",
       "</div>"
      ],
      "text/plain": [
       "            Day  Number of Bicycle Hires\n",
       "0    2010-07-30                   6897.0\n",
       "1    2010-07-31                   5564.0\n",
       "2    2010-08-01                   4303.0\n",
       "3    2010-08-02                   6642.0\n",
       "4    2010-08-03                   7966.0\n",
       "...         ...                      ...\n",
       "4076 2021-09-26                  45120.0\n",
       "4077 2021-09-27                  32167.0\n",
       "4078 2021-09-28                  32539.0\n",
       "4079 2021-09-29                  39889.0\n",
       "4080 2021-09-30                  34070.0\n",
       "\n",
       "[4081 rows x 2 columns]"
      ]
     },
     "execution_count": 7,
     "metadata": {},
     "output_type": "execute_result"
    }
   ],
   "source": [
    "tfl"
   ]
  },
  {
   "cell_type": "code",
   "execution_count": 8,
   "id": "5f416b87",
   "metadata": {},
   "outputs": [],
   "source": [
    "# Sorting values by 'Day' ascending\n",
    "tfl.sort_values('Day', ascending = True, inplace =True)"
   ]
  },
  {
   "cell_type": "code",
   "execution_count": 9,
   "id": "fa7dbe45",
   "metadata": {},
   "outputs": [],
   "source": [
    "# Creating additional columns\n",
    "tfl['Day of Week'] = tfl['Day'].dt.strftime('%A')\n",
    "tfl['Month'] = tfl['Day'].dt.strftime('%B')\n",
    "tfl['Day Number'] = tfl['Day'].dt.strftime('%w')\n",
    "tfl['Month Number'] = tfl['Day'].dt.strftime('%m')"
   ]
  },
  {
   "cell_type": "code",
   "execution_count": 10,
   "id": "3262ae88",
   "metadata": {},
   "outputs": [
    {
     "data": {
      "text/html": [
       "<div>\n",
       "<style scoped>\n",
       "    .dataframe tbody tr th:only-of-type {\n",
       "        vertical-align: middle;\n",
       "    }\n",
       "\n",
       "    .dataframe tbody tr th {\n",
       "        vertical-align: top;\n",
       "    }\n",
       "\n",
       "    .dataframe thead th {\n",
       "        text-align: right;\n",
       "    }\n",
       "</style>\n",
       "<table border=\"1\" class=\"dataframe\">\n",
       "  <thead>\n",
       "    <tr style=\"text-align: right;\">\n",
       "      <th></th>\n",
       "      <th>Day</th>\n",
       "      <th>Number of Bicycle Hires</th>\n",
       "      <th>Day of Week</th>\n",
       "      <th>Month</th>\n",
       "      <th>Day Number</th>\n",
       "      <th>Month Number</th>\n",
       "    </tr>\n",
       "  </thead>\n",
       "  <tbody>\n",
       "    <tr>\n",
       "      <th>0</th>\n",
       "      <td>2010-07-30</td>\n",
       "      <td>6897.0</td>\n",
       "      <td>Friday</td>\n",
       "      <td>July</td>\n",
       "      <td>5</td>\n",
       "      <td>07</td>\n",
       "    </tr>\n",
       "    <tr>\n",
       "      <th>1</th>\n",
       "      <td>2010-07-31</td>\n",
       "      <td>5564.0</td>\n",
       "      <td>Saturday</td>\n",
       "      <td>July</td>\n",
       "      <td>6</td>\n",
       "      <td>07</td>\n",
       "    </tr>\n",
       "    <tr>\n",
       "      <th>2</th>\n",
       "      <td>2010-08-01</td>\n",
       "      <td>4303.0</td>\n",
       "      <td>Sunday</td>\n",
       "      <td>August</td>\n",
       "      <td>0</td>\n",
       "      <td>08</td>\n",
       "    </tr>\n",
       "    <tr>\n",
       "      <th>3</th>\n",
       "      <td>2010-08-02</td>\n",
       "      <td>6642.0</td>\n",
       "      <td>Monday</td>\n",
       "      <td>August</td>\n",
       "      <td>1</td>\n",
       "      <td>08</td>\n",
       "    </tr>\n",
       "    <tr>\n",
       "      <th>4</th>\n",
       "      <td>2010-08-03</td>\n",
       "      <td>7966.0</td>\n",
       "      <td>Tuesday</td>\n",
       "      <td>August</td>\n",
       "      <td>2</td>\n",
       "      <td>08</td>\n",
       "    </tr>\n",
       "    <tr>\n",
       "      <th>...</th>\n",
       "      <td>...</td>\n",
       "      <td>...</td>\n",
       "      <td>...</td>\n",
       "      <td>...</td>\n",
       "      <td>...</td>\n",
       "      <td>...</td>\n",
       "    </tr>\n",
       "    <tr>\n",
       "      <th>4076</th>\n",
       "      <td>2021-09-26</td>\n",
       "      <td>45120.0</td>\n",
       "      <td>Sunday</td>\n",
       "      <td>September</td>\n",
       "      <td>0</td>\n",
       "      <td>09</td>\n",
       "    </tr>\n",
       "    <tr>\n",
       "      <th>4077</th>\n",
       "      <td>2021-09-27</td>\n",
       "      <td>32167.0</td>\n",
       "      <td>Monday</td>\n",
       "      <td>September</td>\n",
       "      <td>1</td>\n",
       "      <td>09</td>\n",
       "    </tr>\n",
       "    <tr>\n",
       "      <th>4078</th>\n",
       "      <td>2021-09-28</td>\n",
       "      <td>32539.0</td>\n",
       "      <td>Tuesday</td>\n",
       "      <td>September</td>\n",
       "      <td>2</td>\n",
       "      <td>09</td>\n",
       "    </tr>\n",
       "    <tr>\n",
       "      <th>4079</th>\n",
       "      <td>2021-09-29</td>\n",
       "      <td>39889.0</td>\n",
       "      <td>Wednesday</td>\n",
       "      <td>September</td>\n",
       "      <td>3</td>\n",
       "      <td>09</td>\n",
       "    </tr>\n",
       "    <tr>\n",
       "      <th>4080</th>\n",
       "      <td>2021-09-30</td>\n",
       "      <td>34070.0</td>\n",
       "      <td>Thursday</td>\n",
       "      <td>September</td>\n",
       "      <td>4</td>\n",
       "      <td>09</td>\n",
       "    </tr>\n",
       "  </tbody>\n",
       "</table>\n",
       "<p>4081 rows × 6 columns</p>\n",
       "</div>"
      ],
      "text/plain": [
       "            Day  Number of Bicycle Hires Day of Week      Month Day Number  \\\n",
       "0    2010-07-30                   6897.0      Friday       July          5   \n",
       "1    2010-07-31                   5564.0    Saturday       July          6   \n",
       "2    2010-08-01                   4303.0      Sunday     August          0   \n",
       "3    2010-08-02                   6642.0      Monday     August          1   \n",
       "4    2010-08-03                   7966.0     Tuesday     August          2   \n",
       "...         ...                      ...         ...        ...        ...   \n",
       "4076 2021-09-26                  45120.0      Sunday  September          0   \n",
       "4077 2021-09-27                  32167.0      Monday  September          1   \n",
       "4078 2021-09-28                  32539.0     Tuesday  September          2   \n",
       "4079 2021-09-29                  39889.0   Wednesday  September          3   \n",
       "4080 2021-09-30                  34070.0    Thursday  September          4   \n",
       "\n",
       "     Month Number  \n",
       "0              07  \n",
       "1              07  \n",
       "2              08  \n",
       "3              08  \n",
       "4              08  \n",
       "...           ...  \n",
       "4076           09  \n",
       "4077           09  \n",
       "4078           09  \n",
       "4079           09  \n",
       "4080           09  \n",
       "\n",
       "[4081 rows x 6 columns]"
      ]
     },
     "execution_count": 10,
     "metadata": {},
     "output_type": "execute_result"
    }
   ],
   "source": [
    "tfl"
   ]
  },
  {
   "cell_type": "code",
   "execution_count": 11,
   "id": "1acac09c",
   "metadata": {},
   "outputs": [],
   "source": [
    "# Creating new data frame to show the Number of Bicycle Hires by Day trend\n",
    "tfl_day = tfl[['Day of Week', 'Day Number','Number of Bicycle Hires']].groupby(by=['Day of Week','Day Number']).sum()"
   ]
  },
  {
   "cell_type": "code",
   "execution_count": 12,
   "id": "bfde80d4",
   "metadata": {},
   "outputs": [],
   "source": [
    "# Resetting index and returning 'Day of Week' and 'Day Number' as columns\n",
    "tfl_day.reset_index(inplace=True)"
   ]
  },
  {
   "cell_type": "code",
   "execution_count": 13,
   "id": "f7133f41",
   "metadata": {},
   "outputs": [],
   "source": [
    "# Sorting via the 'Day Number' column\n",
    "tfl_day.sort_values('Day Number', inplace=True)"
   ]
  },
  {
   "cell_type": "code",
   "execution_count": 14,
   "id": "bdb860b2",
   "metadata": {},
   "outputs": [],
   "source": [
    "# New column showing the 'Number of Bicycle Hires (millions)'\n",
    "tfl_day['Number of Bicycle Hires (millions)'] = round(tfl_day['Number of Bicycle Hires']/1000000,2)"
   ]
  },
  {
   "cell_type": "code",
   "execution_count": 15,
   "id": "47bdd808",
   "metadata": {},
   "outputs": [],
   "source": [
    "# Dropping the 'Number of Bicycle Hires' column\n",
    "tfl_day.drop(columns='Number of Bicycle Hires', inplace=True)"
   ]
  },
  {
   "cell_type": "code",
   "execution_count": 16,
   "id": "3914f450",
   "metadata": {},
   "outputs": [
    {
     "data": {
      "text/html": [
       "<div>\n",
       "<style scoped>\n",
       "    .dataframe tbody tr th:only-of-type {\n",
       "        vertical-align: middle;\n",
       "    }\n",
       "\n",
       "    .dataframe tbody tr th {\n",
       "        vertical-align: top;\n",
       "    }\n",
       "\n",
       "    .dataframe thead th {\n",
       "        text-align: right;\n",
       "    }\n",
       "</style>\n",
       "<table border=\"1\" class=\"dataframe\">\n",
       "  <thead>\n",
       "    <tr style=\"text-align: right;\">\n",
       "      <th></th>\n",
       "      <th>Day of Week</th>\n",
       "      <th>Day Number</th>\n",
       "      <th>Number of Bicycle Hires (millions)</th>\n",
       "    </tr>\n",
       "  </thead>\n",
       "  <tbody>\n",
       "    <tr>\n",
       "      <th>3</th>\n",
       "      <td>Sunday</td>\n",
       "      <td>0</td>\n",
       "      <td>13.01</td>\n",
       "    </tr>\n",
       "    <tr>\n",
       "      <th>1</th>\n",
       "      <td>Monday</td>\n",
       "      <td>1</td>\n",
       "      <td>15.21</td>\n",
       "    </tr>\n",
       "    <tr>\n",
       "      <th>5</th>\n",
       "      <td>Tuesday</td>\n",
       "      <td>2</td>\n",
       "      <td>16.38</td>\n",
       "    </tr>\n",
       "    <tr>\n",
       "      <th>6</th>\n",
       "      <td>Wednesday</td>\n",
       "      <td>3</td>\n",
       "      <td>16.43</td>\n",
       "    </tr>\n",
       "    <tr>\n",
       "      <th>4</th>\n",
       "      <td>Thursday</td>\n",
       "      <td>4</td>\n",
       "      <td>16.37</td>\n",
       "    </tr>\n",
       "    <tr>\n",
       "      <th>0</th>\n",
       "      <td>Friday</td>\n",
       "      <td>5</td>\n",
       "      <td>15.79</td>\n",
       "    </tr>\n",
       "    <tr>\n",
       "      <th>2</th>\n",
       "      <td>Saturday</td>\n",
       "      <td>6</td>\n",
       "      <td>13.99</td>\n",
       "    </tr>\n",
       "  </tbody>\n",
       "</table>\n",
       "</div>"
      ],
      "text/plain": [
       "  Day of Week Day Number  Number of Bicycle Hires (millions)\n",
       "3      Sunday          0                               13.01\n",
       "1      Monday          1                               15.21\n",
       "5     Tuesday          2                               16.38\n",
       "6   Wednesday          3                               16.43\n",
       "4    Thursday          4                               16.37\n",
       "0      Friday          5                               15.79\n",
       "2    Saturday          6                               13.99"
      ]
     },
     "execution_count": 16,
     "metadata": {},
     "output_type": "execute_result"
    }
   ],
   "source": [
    "tfl_day"
   ]
  },
  {
   "cell_type": "code",
   "execution_count": 17,
   "id": "a1201714",
   "metadata": {},
   "outputs": [
    {
     "data": {
      "image/png": "[encoded data removed]",
      "text/plain": [
       "<Figure size 1440x360 with 1 Axes>"
      ]
     },
     "metadata": {
      "needs_background": "light"
     },
     "output_type": "display_data"
    }
   ],
   "source": [
    "# create visualization with matplotlib\n",
    "fig = plt.figure(figsize=(20,5))\n",
    "axes = fig.add_axes([0,0,1,1])\n",
    "\n",
    "axes.bar(x='Day of Week', height='Number of Bicycle Hires (millions)', data=tfl_day)\n",
    "\n",
    "axes.set_title('Total Bike Hires by Day of Week', fontsize=30)\n",
    "axes.set_ylabel('Bike Hires (m)', fontsize = 20)\n",
    "\n",
    "plt.yticks(fontsize=15)\n",
    "plt.xticks(fontsize=15)\n",
    "\n",
    "plt.show()"
   ]
  },
  {
   "cell_type": "code",
   "execution_count": 18,
   "id": "84730b04",
   "metadata": {},
   "outputs": [],
   "source": [
    "# Creating new DataFrame to show the Number of Bicycle Hires by month trend\n",
    "tfl_month = tfl[['Month', 'Month Number','Number of Bicycle Hires']].groupby(by=['Month','Month Number']).sum()"
   ]
  },
  {
   "cell_type": "code",
   "execution_count": 19,
   "id": "67aa635d",
   "metadata": {},
   "outputs": [],
   "source": [
    "# Resetting index and returning 'Month of Week' and 'Month Number' as columns\n",
    "tfl_month.reset_index(inplace=True)"
   ]
  },
  {
   "cell_type": "code",
   "execution_count": 20,
   "id": "3affcf39",
   "metadata": {},
   "outputs": [],
   "source": [
    "# Sorting via the 'Month Number' column\n",
    "tfl_month.sort_values('Month Number', inplace=True)"
   ]
  },
  {
   "cell_type": "code",
   "execution_count": 21,
   "id": "faf0e4ac",
   "metadata": {},
   "outputs": [],
   "source": [
    "# New column showing the 'Number of Bicycle Hires (millions)'\n",
    "tfl_month['Number of Bicycle Hires (millions)'] = round(tfl_month['Number of Bicycle Hires']/1000000,2)"
   ]
  },
  {
   "cell_type": "code",
   "execution_count": 22,
   "id": "7c02c671",
   "metadata": {},
   "outputs": [],
   "source": [
    "# Dropping the 'Number of Bicycle Hires' column\n",
    "tfl_month.drop(columns='Number of Bicycle Hires', inplace=True)"
   ]
  },
  {
   "cell_type": "code",
   "execution_count": 23,
   "id": "6346e486",
   "metadata": {},
   "outputs": [
    {
     "data": {
      "text/html": [
       "<div>\n",
       "<style scoped>\n",
       "    .dataframe tbody tr th:only-of-type {\n",
       "        vertical-align: middle;\n",
       "    }\n",
       "\n",
       "    .dataframe tbody tr th {\n",
       "        vertical-align: top;\n",
       "    }\n",
       "\n",
       "    .dataframe thead th {\n",
       "        text-align: right;\n",
       "    }\n",
       "</style>\n",
       "<table border=\"1\" class=\"dataframe\">\n",
       "  <thead>\n",
       "    <tr style=\"text-align: right;\">\n",
       "      <th></th>\n",
       "      <th>Month</th>\n",
       "      <th>Month Number</th>\n",
       "      <th>Number of Bicycle Hires (millions)</th>\n",
       "    </tr>\n",
       "  </thead>\n",
       "  <tbody>\n",
       "    <tr>\n",
       "      <th>4</th>\n",
       "      <td>January</td>\n",
       "      <td>01</td>\n",
       "      <td>6.22</td>\n",
       "    </tr>\n",
       "    <tr>\n",
       "      <th>3</th>\n",
       "      <td>February</td>\n",
       "      <td>02</td>\n",
       "      <td>6.11</td>\n",
       "    </tr>\n",
       "    <tr>\n",
       "      <th>7</th>\n",
       "      <td>March</td>\n",
       "      <td>03</td>\n",
       "      <td>7.52</td>\n",
       "    </tr>\n",
       "    <tr>\n",
       "      <th>0</th>\n",
       "      <td>April</td>\n",
       "      <td>04</td>\n",
       "      <td>8.56</td>\n",
       "    </tr>\n",
       "    <tr>\n",
       "      <th>8</th>\n",
       "      <td>May</td>\n",
       "      <td>05</td>\n",
       "      <td>10.36</td>\n",
       "    </tr>\n",
       "    <tr>\n",
       "      <th>6</th>\n",
       "      <td>June</td>\n",
       "      <td>06</td>\n",
       "      <td>10.99</td>\n",
       "    </tr>\n",
       "    <tr>\n",
       "      <th>5</th>\n",
       "      <td>July</td>\n",
       "      <td>07</td>\n",
       "      <td>12.12</td>\n",
       "    </tr>\n",
       "    <tr>\n",
       "      <th>1</th>\n",
       "      <td>August</td>\n",
       "      <td>08</td>\n",
       "      <td>11.68</td>\n",
       "    </tr>\n",
       "    <tr>\n",
       "      <th>11</th>\n",
       "      <td>September</td>\n",
       "      <td>09</td>\n",
       "      <td>11.22</td>\n",
       "    </tr>\n",
       "    <tr>\n",
       "      <th>10</th>\n",
       "      <td>October</td>\n",
       "      <td>10</td>\n",
       "      <td>9.17</td>\n",
       "    </tr>\n",
       "    <tr>\n",
       "      <th>9</th>\n",
       "      <td>November</td>\n",
       "      <td>11</td>\n",
       "      <td>7.42</td>\n",
       "    </tr>\n",
       "    <tr>\n",
       "      <th>2</th>\n",
       "      <td>December</td>\n",
       "      <td>12</td>\n",
       "      <td>5.80</td>\n",
       "    </tr>\n",
       "  </tbody>\n",
       "</table>\n",
       "</div>"
      ],
      "text/plain": [
       "        Month Month Number  Number of Bicycle Hires (millions)\n",
       "4     January           01                                6.22\n",
       "3    February           02                                6.11\n",
       "7       March           03                                7.52\n",
       "0       April           04                                8.56\n",
       "8         May           05                               10.36\n",
       "6        June           06                               10.99\n",
       "5        July           07                               12.12\n",
       "1      August           08                               11.68\n",
       "11  September           09                               11.22\n",
       "10    October           10                                9.17\n",
       "9    November           11                                7.42\n",
       "2    December           12                                5.80"
      ]
     },
     "execution_count": 23,
     "metadata": {},
     "output_type": "execute_result"
    }
   ],
   "source": [
    "tfl_month"
   ]
  },
  {
   "cell_type": "code",
   "execution_count": 24,
   "id": "06c4f2e9",
   "metadata": {},
   "outputs": [
    {
     "data": {
      "image/png": "[encoded data removed]",
      "text/plain": [
       "<Figure size 1440x360 with 1 Axes>"
      ]
     },
     "metadata": {
      "needs_background": "light"
     },
     "output_type": "display_data"
    }
   ],
   "source": [
    "# create visualization with matplotlib\n",
    "fig = plt.figure(figsize=(20,5))\n",
    "axes = fig.add_axes([0,0,1,1])\n",
    "\n",
    "axes.bar(x='Month', height='Number of Bicycle Hires (millions)', data=tfl_month)\n",
    "\n",
    "axes.set_title('Total Bike Hires by Month', fontsize=30)\n",
    "axes.set_ylabel('Bike Hires (m)', fontsize = 20)\n",
    "\n",
    "plt.yticks(fontsize=15)\n",
    "plt.xticks(fontsize=15)\n",
    "\n",
    "plt.show()"
   ]
  },
  {
   "cell_type": "code",
   "execution_count": null,
   "id": "835b9d85",
   "metadata": {},
   "outputs": [],
   "source": []
  }
 ],
 "metadata": {
  "kernelspec": {
   "display_name": "Python 3 (ipykernel)",
   "language": "python",
   "name": "python3"
  },
  "language_info": {
   "codemirror_mode": {
    "name": "ipython",
    "version": 3
   },
   "file_extension": ".py",
   "mimetype": "text/x-python",
   "name": "python",
   "nbconvert_exporter": "python",
   "pygments_lexer": "ipython3",
   "version": "3.9.12"
  }
 },
 "nbformat": 4,
 "nbformat_minor": 5
}
